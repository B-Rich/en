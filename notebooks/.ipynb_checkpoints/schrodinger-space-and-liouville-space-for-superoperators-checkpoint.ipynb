{
 "cells": [
  {
   "cell_type": "markdown",
   "metadata": {},
   "source": [
    "In the JuliaQuantum's [Base.jl](https://github.com/JuliaQuantum/QuBase.jl) and [QuDynamics.jl](https://github.com/JuliaQuantum/QuDynamics.jl) projects, efforts have been intensively focusing on the time evolution of quantum systems and the idea of propagator has been framed out. \n",
    "To reach out the regime of more complicated quantum systems, however, some other foundamental concepts are necessarily to be implemented -- especially the type system of superoperator and their algebra. \n",
    "There has been many ways to represent a superoperator \n",
    "\n"
   ]
  },
  {
   "cell_type": "code",
   "execution_count": 1,
   "metadata": {
    "collapsed": false
   },
   "outputs": [
    {
     "data": {
      "text/plain": [
       "2"
      ]
     },
     "execution_count": 1,
     "metadata": {},
     "output_type": "execute_result"
    }
   ],
   "source": [
    "1+1"
   ]
  },
  {
   "cell_type": "code",
   "execution_count": null,
   "metadata": {
    "collapsed": true
   },
   "outputs": [],
   "source": []
  }
 ],
 "metadata": {
  "kernelspec": {
   "display_name": "Julia 0.4.5",
   "language": "julia",
   "name": "julia-0.4"
  },
  "language_info": {
   "file_extension": ".jl",
   "mimetype": "application/julia",
   "name": "julia",
   "version": "0.4.5"
  }
 },
 "nbformat": 4,
 "nbformat_minor": 0
}
